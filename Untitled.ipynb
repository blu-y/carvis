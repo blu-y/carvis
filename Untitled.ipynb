{
 "cells": [
  {
   "cell_type": "markdown",
   "id": "6c4bae60",
   "metadata": {},
   "source": [
    "## 아아\n",
    "# 안녕하세오\n",
    "\n",
    "https://pysource.com/2021/03/11/distance-detection-with-depth-camera-intel-realsense-d435i/"
   ]
  },
  {
   "cell_type": "code",
   "execution_count": 10,
   "id": "94f388d2",
   "metadata": {},
   "outputs": [],
   "source": [
    "import pyrealsense2\n",
    "import cv2\n",
    "from realsense_depth import *"
   ]
  },
  {
   "cell_type": "code",
   "execution_count": 11,
   "id": "aa9fa71b",
   "metadata": {},
   "outputs": [],
   "source": [
    "dc = DepthCamera()"
   ]
  },
  {
   "cell_type": "code",
   "execution_count": 12,
   "id": "fee9d551",
   "metadata": {},
   "outputs": [],
   "source": [
    "ret, depth_frame, color_frame = dc.get_frame()"
   ]
  },
  {
   "cell_type": "code",
   "execution_count": null,
   "id": "d0918e4d",
   "metadata": {},
   "outputs": [],
   "source": [
    "cv2.imshow('depth', color_frame)\n",
    "cv2.waitKey()\n",
    "cv2.destroyAllWindows()"
   ]
  },
  {
   "cell_type": "code",
   "execution_count": 9,
   "id": "37257f39",
   "metadata": {},
   "outputs": [
    {
     "name": "stdout",
     "output_type": "stream",
     "text": [
      "why?\n"
     ]
    }
   ],
   "source": [
    "print(\"why?\")"
   ]
  },
  {
   "cell_type": "code",
   "execution_count": null,
   "id": "ef20a5df",
   "metadata": {},
   "outputs": [],
   "source": []
  }
 ],
 "metadata": {
  "kernelspec": {
   "display_name": "Python 3 (ipykernel)",
   "language": "python",
   "name": "python3"
  },
  "language_info": {
   "codemirror_mode": {
    "name": "ipython",
    "version": 3
   },
   "file_extension": ".py",
   "mimetype": "text/x-python",
   "name": "python",
   "nbconvert_exporter": "python",
   "pygments_lexer": "ipython3",
   "version": "3.9.12"
  }
 },
 "nbformat": 4,
 "nbformat_minor": 5
}
